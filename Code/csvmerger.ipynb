{
 "cells": [
  {
   "cell_type": "code",
   "execution_count": 1,
   "id": "a3529bae",
   "metadata": {},
   "outputs": [],
   "source": [
    "#!/usr/bin/env python3\n",
    "# -*- coding: utf-8 -*-\n",
    "\"\"\"\n",
    "Created on Thu Jul 15 08:29:53 2021\n",
    "\n",
    "@author: Arbo\n",
    "\"\"\"\n",
    "import os\n",
    "import pandas as pd\n",
    "code_dir = os.getcwd()\n",
    "parent_dir = os.path.dirname(code_dir)\n",
    "data_dir = os.path.join(parent_dir,\"Data\")\n",
    "tweet_dir = os.path.join(parent_dir,\"GeoTweets\")\n",
    "\n",
    "wxevents= [\"tornado\",\"blizzard\",\"snow\", \"ice storm\",\"sleet\",\"thunderstorm\",\"hail\",\"freeze\",\"frost\",\"extreme cold\",\"lightning\",    \"winds\"       \n",
    "\"gale\",\"storm\"]\n",
    "movement=[\"landslide\" , \"tsunami\" , \"tidal wave\" , \"earthquake\" , \"eruption\" , \n",
    "          \"volcano\" , \"lava\" , \"lahar\" , \"avalanche\" , \"mudslide\" , \"sinkhole\"]\n",
    "troplist=[\"typhoon\" ,\"cyclone\",\"hurricane\", \"tropical storm\",\"storm surge\"]\n",
    "flist= [\"fire\", \"forest fire\", \"wildfire\", \"bushfire\", \"extreme heat\", \"record heat\", \"heatwave\" , \"heat wave\" ]\n",
    "floods = [\"flood\",\"flooded\",\"flooding\"]"
   ]
  },
  {
   "cell_type": "code",
   "execution_count": 2,
   "id": "5560006b",
   "metadata": {},
   "outputs": [],
   "source": [
    "dfs=[]\n",
    "for table in os.listdir(os.path.join(tweet_dir)):\n",
    "    if table.startswith(\"geo\"):\n",
    "        tempdf = pd.read_csv(os.path.join(tweet_dir,table), engine = 'python', )\n",
    "        try:\n",
    "            tempdf = tempdf.drop(columns = ['TweetLink', '0'])\n",
    "        except:\n",
    "            tempdf = tempdf.drop(columns = ['0'])\n",
    "        dfs.append(tempdf)"
   ]
  },
  {
   "cell_type": "code",
   "execution_count": 3,
   "id": "c1f4da8b",
   "metadata": {},
   "outputs": [],
   "source": [
    "alltweet = pd.concat(dfs)\n",
    "alltweet = alltweet.sort_values(by=['Datetime']).reset_index(drop=True)\n",
    "alltweet = alltweet.drop([646857,10454])\n",
    "alltweet = alltweet.astype({'target': 'float32'})\n",
    "alltweet = alltweet.astype({'lat': 'float64'})\n",
    "alltweet = alltweet.astype({'country_conf': 'float64'})\n",
    "alltweet= alltweet.drop_duplicates()\n",
    "alltweet = alltweet.sort_values(by=['Datetime']).reset_index(drop=True)"
   ]
  },
  {
   "cell_type": "code",
   "execution_count": 4,
   "id": "f094fb88",
   "metadata": {},
   "outputs": [],
   "source": [
    "alltweet['flood']=alltweet.ptext.str.contains('|'.join(floods))\n",
    "alltweet['tropical']=alltweet.ptext.str.contains('|'.join(troplist))\n",
    "alltweet['severeweather']=alltweet.ptext.str.contains('|'.join(wxevents))\n",
    "alltweet['geomovement']=alltweet.ptext.str.contains('|'.join(movement))\n",
    "alltweet['fire']=alltweet.ptext.str.contains('|'.join(flist))\n"
   ]
  },
  {
   "cell_type": "code",
   "execution_count": 5,
   "id": "35481fe1",
   "metadata": {},
   "outputs": [],
   "source": [
    "tweet_dir = os.path.join(parent_dir,\"TweetMap\")"
   ]
  },
  {
   "cell_type": "code",
   "execution_count": 6,
   "id": "ddaa29ac",
   "metadata": {},
   "outputs": [],
   "source": [
    "alltweet.to_csv(os.path.join(tweet_dir,\"alltweet.csv\"), index = False)\n",
    "alltweet.to_csv(os.path.join(tweet_dir,\"alltweet_i.csv\"), index = True)"
   ]
  },
  {
   "cell_type": "code",
   "execution_count": 29,
   "id": "649d6d56",
   "metadata": {},
   "outputs": [],
   "source": [
    "locations = alltweet[['country_code3','admin1','place_name', 'geonameid']]"
   ]
  },
  {
   "cell_type": "code",
   "execution_count": 30,
   "id": "b18af5ae",
   "metadata": {},
   "outputs": [],
   "source": [
    "admin_ones = locations.drop_duplicates(['country_code3','admin1'])\n",
    "admin_ones = admin_ones[['country_code3','admin1']]"
   ]
  },
  {
   "cell_type": "code",
   "execution_count": 31,
   "id": "eb747b4a",
   "metadata": {},
   "outputs": [],
   "source": [
    "admin_ones = admin_ones.sort_values(by=['country_code3', 'admin1'])"
   ]
  },
  {
   "cell_type": "code",
   "execution_count": 32,
   "id": "d66199ca",
   "metadata": {},
   "outputs": [],
   "source": [
    "admin_ones.to_csv(os.path.join(tweet_dir,\"Admin_ones.csv\"), index = False)"
   ]
  },
  {
   "cell_type": "code",
   "execution_count": 33,
   "id": "e9002e21",
   "metadata": {},
   "outputs": [],
   "source": [
    "geonames = locations.drop_duplicates('geonameid')\n",
    "geonames = geonames[['geonameid','place_name','country_code3','admin1']]"
   ]
  },
  {
   "cell_type": "code",
   "execution_count": 34,
   "id": "edce8958",
   "metadata": {
    "scrolled": true
   },
   "outputs": [],
   "source": [
    "geonames = geonames.sort_values(by=['country_code3','admin1','place_name'])"
   ]
  },
  {
   "cell_type": "code",
   "execution_count": 35,
   "id": "2b6c9d15",
   "metadata": {},
   "outputs": [],
   "source": [
    "geonames.to_csv(os.path.join(tweet_dir,\"geonames_ones.csv\"), index = False)"
   ]
  },
  {
   "cell_type": "code",
   "execution_count": 36,
   "id": "6a1f602e",
   "metadata": {},
   "outputs": [],
   "source": [
    "countries = pd.read_csv(os.path.join(tweet_dir,\"Countries - Countries.csv\"))"
   ]
  },
  {
   "cell_type": "code",
   "execution_count": 37,
   "id": "91fdd924",
   "metadata": {},
   "outputs": [],
   "source": [
    "countries= countries.sort_values(by='Country')"
   ]
  },
  {
   "cell_type": "code",
   "execution_count": 38,
   "id": "14486997",
   "metadata": {},
   "outputs": [],
   "source": [
    "countries.to_csv(os.path.join(tweet_dir,\"Countries - Countries.csv\"), index = False)"
   ]
  }
 ],
 "metadata": {
  "kernelspec": {
   "display_name": "Python 3",
   "language": "python",
   "name": "python3"
  },
  "language_info": {
   "codemirror_mode": {
    "name": "ipython",
    "version": 3
   },
   "file_extension": ".py",
   "mimetype": "text/x-python",
   "name": "python",
   "nbconvert_exporter": "python",
   "pygments_lexer": "ipython3",
   "version": "3.8.8"
  }
 },
 "nbformat": 4,
 "nbformat_minor": 5
}
