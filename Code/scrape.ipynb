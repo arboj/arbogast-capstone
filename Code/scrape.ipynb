{
 "cells": [
  {
   "cell_type": "code",
   "execution_count": 1,
   "id": "61cd4b47",
   "metadata": {},
   "outputs": [],
   "source": [
    "import os\n",
    "import pandas as pd\n",
    "import snscrape.modules.twitter as sntwitter\n",
    "import numpy as np\n",
    "import datetime"
   ]
  },
  {
   "cell_type": "code",
   "execution_count": 2,
   "id": "08db58cc",
   "metadata": {},
   "outputs": [],
   "source": [
    "code_dir = os.getcwd()\n",
    "parent_dir = os.path.dirname(code_dir)\n",
    "data_dir = os.path.join(parent_dir,\"Data\")\n",
    "tweet_dir = os.path.join(parent_dir,\"TweetMap\")\n"
   ]
  },
  {
   "cell_type": "code",
   "execution_count": 3,
   "id": "c41c9c35",
   "metadata": {},
   "outputs": [],
   "source": [
    "#!/usr/bin/env python3\n",
    "# -*- coding: utf-8 -*-\n",
    "\"\"\"\n",
    "Created on Mon Mar  1 10:40:16 2021\n",
    "\n",
    "@author: Arbo\n",
    "\"\"\"\n",
    "\n",
    "def twittsearch(text_query,since_date,until_date,tweetcount):\n",
    "    tweets_list = []\n",
    "\n",
    "    query = '{0} since:{1} until:{2} filter:has_engagement'.format(text_query, since_date, until_date)\n",
    "    print(query)\n",
    "\n",
    "    # Using TwitterSearchScraper to scrape data and append tweets to list\n",
    "\n",
    "    for i,tweet in enumerate(sntwitter.TwitterSearchScraper(query).get_items()):\n",
    "\n",
    "        if i>tweetcount:\n",
    "\n",
    "            break\n",
    "        tweets_list.append([tweet.date, tweet.id, tweet.content, \n",
    "                            tweet.lang,tweet.retweetedTweet,tweet.quotedTweet])\n",
    "\n",
    "    # Creating a dataframe from the tweets list above\n",
    "\n",
    "    tweets_df = pd.DataFrame(tweets_list, \n",
    "                             columns=['Datetime', 'TweetId', 'Text',\n",
    "                                     \"Language\", \"RTFrom\", \"QTFrom\"])\n",
    "    \n",
    "    print(\"found {} tweets ranging from {} to {}\".format(len(tweets_df),\n",
    "                                                            tweets_df.Datetime.min(),tweets_df.Datetime.max()))\n",
    "    \n",
    "    print(\"dropping duplicates\")   \n",
    "    tweets_df = tweets_df.drop_duplicates(subset=['TweetId'])\n",
    "    print(\"total of tweets now: {}\".format(len(tweets_df)))\n",
    "    print(\"english only\")\n",
    "\n",
    "    tweets_df = tweets_df[tweets_df[\"Language\"]=='en']\n",
    "    print(\"total of tweets now: {}\".format(len(tweets_df)))\n",
    "    tweets_df = tweets_df[tweets_df[\"RTFrom\"].isna()]\n",
    "    print(\"total of tweets now: {}\".format(len(tweets_df)))\n",
    "    tweets_df = tweets_df[tweets_df[\"QTFrom\"].isna()]\n",
    "    print(\"total of tweets now: {} ranging from {} to {}\".format(len(tweets_df),\n",
    "                                                                tweets_df.Datetime.min(),tweets_df.Datetime.max()))\n",
    "    \n",
    "    return tweets_df\n",
    "\n",
    "\n",
    "\n"
   ]
  },
  {
   "cell_type": "code",
   "execution_count": 6,
   "id": "17ebeff3",
   "metadata": {},
   "outputs": [
    {
     "name": "stdout",
     "output_type": "stream",
     "text": [
      "Scraping commenced at 2021-07-14 23:01:23.775771\n",
      "(\"forest fire\") OR wildfire OR bushfire OR (extreme heat) OR (record heat) OR heatwave OR (\"heat wave\") OR typhoon OR cyclone OR hurricane OR tornado OR (\"storm surge\") OR  blizzard OR snow OR (\"ice storm\") OR sleet OR thunderstorm OR hail OR flood OR flooding OR freeze OR frost OR (extreme cold) OR landslide OR tsunami OR (\"tidal wave\") OR earthquake OR eruption OR volcano OR lava OR lahar OR avalanche OR mudslide OR sinkhole since:2021-07-06 until:2021-07-07 filter:has_engagement\n",
      "found 80882 tweets ranging from 2021-07-06 00:00:00+00:00 to 2021-07-06 23:59:59+00:00\n",
      "dropping duplicates\n",
      "total of tweets now: 80882\n",
      "english only\n",
      "total of tweets now: 48558\n",
      "total of tweets now: 48558\n",
      "total of tweets now: 45358 ranging from 2021-07-06 00:00:00+00:00 to 2021-07-06 23:59:59+00:00\n",
      "Scraping ended at 2021-07-14 23:15:01.095476\n",
      "Scraping time 0:13:37.319705\n"
     ]
    }
   ],
   "source": [
    "scrapestart =  datetime.datetime.now() \n",
    "print(\"Scraping commenced at {}\".format(scrapestart))\n",
    "# =============================================================================\n",
    "text_query = '(\"forest fire\") OR wildfire OR bushfire OR \\\n",
    "(extreme heat) OR (record heat) OR heatwave OR (\"heat wave\") OR typhoon OR cyclone OR hurricane OR \\\n",
    "tornado OR (\"storm surge\") OR  blizzard OR snow OR (\"ice storm\") OR sleet OR thunderstorm OR \\\n",
    "hail OR flood OR flooding OR freeze OR frost OR (extreme cold) OR landslide OR tsunami OR (\"tidal wave\") OR \\\n",
    "earthquake OR eruption OR volcano OR lava OR lahar OR avalanche OR mudslide OR sinkhole'\n",
    "\n",
    "\n",
    "# qlist = [firemetq_geologicalotherq]\n",
    "# qname= ['fire & meteorlogical & geological & other']\n",
    "since_date = '2021-07-06'\n",
    "until_date = '2021-07-07'\n",
    "tweetcount = 150000\n",
    "# tweets_df = twittsearch(qname,qlist,since_date,until_date,tweetcount)\n",
    "twittsearch(text_query,since_date,until_date,tweetcount).to_csv(os.path.join(tweet_dir,'tweets_df_{0}_{1}.csv'.\n",
    "                              format(since_date.replace('-',''),until_date.replace('-',''))),\n",
    "                 index =False)\n",
    "# =============================================================================\n",
    "scrapend =  datetime.datetime.now()\n",
    "print(\"Scraping ended at {}\".format(scrapend))\n",
    "print(\"Scraping time {}\".format(scrapend-scrapestart))"
   ]
  },
  {
   "cell_type": "code",
   "execution_count": 11,
   "id": "ef7cdda7",
   "metadata": {},
   "outputs": [],
   "source": [
    "since_date = '2021-07-12'\n",
    "until_date = '2021-07-13'"
   ]
  },
  {
   "cell_type": "code",
   "execution_count": 12,
   "id": "ce54919c",
   "metadata": {},
   "outputs": [
    {
     "data": {
      "text/plain": [
       "'/Volumes/Elements/DataScience/dsa/capstone/TweetMap/tweets_df_20210712_20210713.csv'"
      ]
     },
     "execution_count": 12,
     "metadata": {},
     "output_type": "execute_result"
    }
   ],
   "source": [
    "os.path.join(tweet_dir,'tweets_df_{0}_{1}.csv'.\n",
    "                              format(since_date.replace('-',''),until_date.replace('-','')))"
   ]
  },
  {
   "cell_type": "code",
   "execution_count": 13,
   "id": "f2de9ce5",
   "metadata": {},
   "outputs": [],
   "source": [
    "tweets_df = pd.read_csv(os.path.join(tweet_dir,'tweets_df_{0}_{1}.csv'.\n",
    "                              format(since_date.replace('-',''),until_date.replace('-',''))))"
   ]
  },
  {
   "cell_type": "code",
   "execution_count": 14,
   "id": "1d8e1f24",
   "metadata": {},
   "outputs": [
    {
     "data": {
      "text/plain": [
       "Datetime     object\n",
       "TweetId      object\n",
       "Text         object\n",
       "Language     object\n",
       "RTFrom      float64\n",
       "QTFrom      float64\n",
       "dtype: object"
      ]
     },
     "execution_count": 14,
     "metadata": {},
     "output_type": "execute_result"
    }
   ],
   "source": [
    "tweets_df.dtypes"
   ]
  },
  {
   "cell_type": "code",
   "execution_count": 15,
   "id": "49897543",
   "metadata": {},
   "outputs": [
    {
     "data": {
      "text/plain": [
       "59143"
      ]
     },
     "execution_count": 15,
     "metadata": {},
     "output_type": "execute_result"
    }
   ],
   "source": [
    "len(tweets_df)"
   ]
  },
  {
   "cell_type": "code",
   "execution_count": 16,
   "id": "cc131d31",
   "metadata": {},
   "outputs": [
    {
     "data": {
      "text/plain": [
       "array([nan])"
      ]
     },
     "execution_count": 16,
     "metadata": {},
     "output_type": "execute_result"
    }
   ],
   "source": [
    "t2 = tweets_df[tweets_df.QTFrom.isna() ]\n",
    "t2.QTFrom.unique()\n"
   ]
  },
  {
   "cell_type": "code",
   "execution_count": 17,
   "id": "f2e86021",
   "metadata": {},
   "outputs": [],
   "source": [
    "# tweets_df.to_csv(os.path.join(tweet_dir,'tweets_df_{0}_{1}.csv'.\n",
    "#                               format(since_date.replace('-',''),until_date.replace('-',''))),\n",
    "#                  index =False)"
   ]
  },
  {
   "cell_type": "code",
   "execution_count": 18,
   "id": "a12a80f5",
   "metadata": {},
   "outputs": [
    {
     "data": {
      "text/html": [
       "<div>\n",
       "<style scoped>\n",
       "    .dataframe tbody tr th:only-of-type {\n",
       "        vertical-align: middle;\n",
       "    }\n",
       "\n",
       "    .dataframe tbody tr th {\n",
       "        vertical-align: top;\n",
       "    }\n",
       "\n",
       "    .dataframe thead th {\n",
       "        text-align: right;\n",
       "    }\n",
       "</style>\n",
       "<table border=\"1\" class=\"dataframe\">\n",
       "  <thead>\n",
       "    <tr style=\"text-align: right;\">\n",
       "      <th></th>\n",
       "      <th>Datetime</th>\n",
       "      <th>TweetId</th>\n",
       "      <th>Text</th>\n",
       "      <th>Language</th>\n",
       "      <th>RTFrom</th>\n",
       "      <th>QTFrom</th>\n",
       "    </tr>\n",
       "  </thead>\n",
       "  <tbody>\n",
       "    <tr>\n",
       "      <th>0</th>\n",
       "      <td>2021-07-12 23:59:57+00:00</td>\n",
       "      <td>1414736318144421896</td>\n",
       "      <td>@Spence2G @ZayaRose7 Friend!  What the hell?!! 🤣🤣</td>\n",
       "      <td>en</td>\n",
       "      <td>NaN</td>\n",
       "      <td>NaN</td>\n",
       "    </tr>\n",
       "    <tr>\n",
       "      <th>1</th>\n",
       "      <td>2021-07-12 23:59:54+00:00</td>\n",
       "      <td>1414736307050405888</td>\n",
       "      <td>@SimulateSwag listening to osquinn</td>\n",
       "      <td>en</td>\n",
       "      <td>NaN</td>\n",
       "      <td>NaN</td>\n",
       "    </tr>\n",
       "    <tr>\n",
       "      <th>2</th>\n",
       "      <td>2021-07-12 23:59:53+00:00</td>\n",
       "      <td>1414736300041715717</td>\n",
       "      <td>@NaurTaurNaur They are on I just don’t interact</td>\n",
       "      <td>en</td>\n",
       "      <td>NaN</td>\n",
       "      <td>NaN</td>\n",
       "    </tr>\n",
       "    <tr>\n",
       "      <th>3</th>\n",
       "      <td>2021-07-12 23:59:52+00:00</td>\n",
       "      <td>1414736297189548032</td>\n",
       "      <td>im begging u dowoon pls more selcas without th...</td>\n",
       "      <td>en</td>\n",
       "      <td>NaN</td>\n",
       "      <td>NaN</td>\n",
       "    </tr>\n",
       "    <tr>\n",
       "      <th>4</th>\n",
       "      <td>2021-07-12 23:59:51+00:00</td>\n",
       "      <td>1414736292097761282</td>\n",
       "      <td>@_justdess Everywhere I go it never fails! Got...</td>\n",
       "      <td>en</td>\n",
       "      <td>NaN</td>\n",
       "      <td>NaN</td>\n",
       "    </tr>\n",
       "    <tr>\n",
       "      <th>...</th>\n",
       "      <td>...</td>\n",
       "      <td>...</td>\n",
       "      <td>...</td>\n",
       "      <td>...</td>\n",
       "      <td>...</td>\n",
       "      <td>...</td>\n",
       "    </tr>\n",
       "    <tr>\n",
       "      <th>59138</th>\n",
       "      <td>2021-07-12 00:00:00+00:00</td>\n",
       "      <td>1414373943897739274</td>\n",
       "      <td>The National Weather Service in Paducah has co...</td>\n",
       "      <td>en</td>\n",
       "      <td>NaN</td>\n",
       "      <td>NaN</td>\n",
       "    </tr>\n",
       "    <tr>\n",
       "      <th>59139</th>\n",
       "      <td>2021-07-12 00:00:00+00:00</td>\n",
       "      <td>1414373943595601921</td>\n",
       "      <td>(Cosmetic Showcase) Elemental Motorists!🌌🔥\\n\\n...</td>\n",
       "      <td>en</td>\n",
       "      <td>NaN</td>\n",
       "      <td>NaN</td>\n",
       "    </tr>\n",
       "    <tr>\n",
       "      <th>59140</th>\n",
       "      <td>2021-07-12 00:00:00+00:00</td>\n",
       "      <td>1414373943578746884</td>\n",
       "      <td>#AdoringGod This Week: We can trust the Lord t...</td>\n",
       "      <td>en</td>\n",
       "      <td>NaN</td>\n",
       "      <td>NaN</td>\n",
       "    </tr>\n",
       "    <tr>\n",
       "      <th>59141</th>\n",
       "      <td>2021-07-12 00:00:00+00:00</td>\n",
       "      <td>1414373942576357377</td>\n",
       "      <td>LT's Weekly Watchlist for 7/12-7/16🚨\\n\\nA full...</td>\n",
       "      <td>en</td>\n",
       "      <td>NaN</td>\n",
       "      <td>NaN</td>\n",
       "    </tr>\n",
       "    <tr>\n",
       "      <th>59142</th>\n",
       "      <td>2021-07-12 00:00:00+00:00</td>\n",
       "      <td>1414373942102351872</td>\n",
       "      <td>⚠️#Iran🇮🇷: A mild #earthquake of magnitude Mn=...</td>\n",
       "      <td>en</td>\n",
       "      <td>NaN</td>\n",
       "      <td>NaN</td>\n",
       "    </tr>\n",
       "  </tbody>\n",
       "</table>\n",
       "<p>59143 rows × 6 columns</p>\n",
       "</div>"
      ],
      "text/plain": [
       "                        Datetime              TweetId  \\\n",
       "0      2021-07-12 23:59:57+00:00  1414736318144421896   \n",
       "1      2021-07-12 23:59:54+00:00  1414736307050405888   \n",
       "2      2021-07-12 23:59:53+00:00  1414736300041715717   \n",
       "3      2021-07-12 23:59:52+00:00  1414736297189548032   \n",
       "4      2021-07-12 23:59:51+00:00  1414736292097761282   \n",
       "...                          ...                  ...   \n",
       "59138  2021-07-12 00:00:00+00:00  1414373943897739274   \n",
       "59139  2021-07-12 00:00:00+00:00  1414373943595601921   \n",
       "59140  2021-07-12 00:00:00+00:00  1414373943578746884   \n",
       "59141  2021-07-12 00:00:00+00:00  1414373942576357377   \n",
       "59142  2021-07-12 00:00:00+00:00  1414373942102351872   \n",
       "\n",
       "                                                    Text Language  RTFrom  \\\n",
       "0      @Spence2G @ZayaRose7 Friend!  What the hell?!! 🤣🤣       en     NaN   \n",
       "1                     @SimulateSwag listening to osquinn       en     NaN   \n",
       "2        @NaurTaurNaur They are on I just don’t interact       en     NaN   \n",
       "3      im begging u dowoon pls more selcas without th...       en     NaN   \n",
       "4      @_justdess Everywhere I go it never fails! Got...       en     NaN   \n",
       "...                                                  ...      ...     ...   \n",
       "59138  The National Weather Service in Paducah has co...       en     NaN   \n",
       "59139  (Cosmetic Showcase) Elemental Motorists!🌌🔥\\n\\n...       en     NaN   \n",
       "59140  #AdoringGod This Week: We can trust the Lord t...       en     NaN   \n",
       "59141  LT's Weekly Watchlist for 7/12-7/16🚨\\n\\nA full...       en     NaN   \n",
       "59142  ⚠️#Iran🇮🇷: A mild #earthquake of magnitude Mn=...       en     NaN   \n",
       "\n",
       "       QTFrom  \n",
       "0         NaN  \n",
       "1         NaN  \n",
       "2         NaN  \n",
       "3         NaN  \n",
       "4         NaN  \n",
       "...       ...  \n",
       "59138     NaN  \n",
       "59139     NaN  \n",
       "59140     NaN  \n",
       "59141     NaN  \n",
       "59142     NaN  \n",
       "\n",
       "[59143 rows x 6 columns]"
      ]
     },
     "execution_count": 18,
     "metadata": {},
     "output_type": "execute_result"
    }
   ],
   "source": [
    "tweets_df"
   ]
  },
  {
   "cell_type": "code",
   "execution_count": null,
   "id": "63aa668a",
   "metadata": {},
   "outputs": [],
   "source": []
  }
 ],
 "metadata": {
  "kernelspec": {
   "display_name": "Python 3",
   "language": "python",
   "name": "python3"
  },
  "language_info": {
   "codemirror_mode": {
    "name": "ipython",
    "version": 3
   },
   "file_extension": ".py",
   "mimetype": "text/x-python",
   "name": "python",
   "nbconvert_exporter": "python",
   "pygments_lexer": "ipython3",
   "version": "3.8.8"
  }
 },
 "nbformat": 4,
 "nbformat_minor": 5
}
